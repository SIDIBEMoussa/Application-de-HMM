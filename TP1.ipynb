{
  "nbformat": 4,
  "nbformat_minor": 0,
  "metadata": {
    "hide_input": false,
    "kernelspec": {
      "display_name": "Python 3",
      "language": "python",
      "name": "python3"
    },
    "language_info": {
      "codemirror_mode": {
        "name": "ipython",
        "version": 3
      },
      "file_extension": ".py",
      "mimetype": "text/x-python",
      "name": "python",
      "nbconvert_exporter": "python",
      "pygments_lexer": "ipython3",
      "version": "3.7.3"
    },
    "colab": {
      "name": "TP1.ipynb",
      "provenance": [],
      "collapsed_sections": [],
      "include_colab_link": true
    }
  },
  "cells": [
    {
      "cell_type": "markdown",
      "metadata": {
        "id": "view-in-github",
        "colab_type": "text"
      },
      "source": [
        "<a href=\"https://colab.research.google.com/github/SIDIBEMoussa/Application-de-HMM/blob/main/TP1.ipynb\" target=\"_parent\"><img src=\"https://colab.research.google.com/assets/colab-badge.svg\" alt=\"Open In Colab\"/></a>"
      ]
    },
    {
      "cell_type": "markdown",
      "metadata": {
        "id": "rWJPob2tXzrF"
      },
      "source": [
        "## Compléter le code python  à partir du pseudo code fourner"
      ]
    },
    {
      "cell_type": "markdown",
      "metadata": {
        "id": "MujtS7oxXzrP"
      },
      "source": [
        "On utilise l'exemple du cours comme référence pratique: \n",
        "\n",
        "Supposons que les recherches actuelles indiquent une corrélation entre la taille des cernes de croissance des arbres et la température.\n",
        "\n",
        "Pour simplification, nous considérons trois tailles différentes de cernes des arbres : petite S , moyenne M et grande L . On ne considère que deux températures annuelles \"Chaux : Hot\" et \" Froid : Cold\n",
        "\n",
        "Les relations probabiliste sont donnée par :\n",
        "\n",
        "- La matrice de transition :\n",
        "$$\n",
        "A=\\left[\\begin{array}{ll}\n",
        "0.7 & 0.3 \\\\\n",
        "0.4 & 0.6\n",
        "\\end{array}\\right]\n",
        "$$\n",
        "- La matrice d'observation des probabilités d'émission :\n",
        "$$\n",
        "B=\\left[\\begin{array}{lll}\n",
        "0.1 & 0.4 & 0.5 \\\\\n",
        "0.7 & 0.2 & 0.1\n",
        "\\end{array}\\right]\n",
        "$$\n",
        "- la distribution de loi de probabilité de l'état initial:\n",
        "$$\n",
        "\\pi=\\left[\\begin{array}{ll}\n",
        "0.6 & 0.4\n",
        "\\end{array}\\right]\n",
        "$$\n",
        "\n"
      ]
    },
    {
      "cell_type": "code",
      "metadata": {
        "id": "N0WoyowjXzrS"
      },
      "source": [
        "import numpy as np"
      ],
      "execution_count": 1,
      "outputs": []
    },
    {
      "cell_type": "code",
      "metadata": {
        "colab": {
          "base_uri": "https://localhost:8080/"
        },
        "id": "YvfyCNePXzrX",
        "outputId": "88f91518-8cb1-4ef2-945e-e47b18bbcb0c"
      },
      "source": [
        "O=np.array([0,1,0,2,1,0,2])                        #Séquence d'observation,0 : S, 1 :M, 2 : L\n",
        "T=O.shape[0]                                       #Durée de la séquence d'observation\n",
        "S=['HOT','Cold']                                   #Noms d'États\n",
        "N=2                                                #Nombre d'états dans le modèle (Froid et Chaud)\n",
        "M=3                                                #Nombre d'états dans le modèle (Froid et Chaud)\n",
        "\n",
        "\n",
        "\"\"\"1.Initialisation, sélectionnez les valeurs initiales pour les matrices A,B et p\"\"\"\n",
        "p=np.array([0.6,0.4])                             #(à compléter )la distribution de loi de probabilité de l'état initial\n",
        "A=np.array([[0.7,0.3],[0.4,0.6]])                             #(à compléter )La matrice de transition\n",
        "B=np.array([[0.1,0.4,0.5],[0.7,0.2,0.1]])                             #(à compléter )La matrice d'observation des probabilités d'émission\n",
        "\n",
        "print('p=',p)\n",
        "print('='*20)\n",
        "print('A=',A)\n",
        "print('='*20)\n",
        "print('B=',B)"
      ],
      "execution_count": 29,
      "outputs": [
        {
          "output_type": "stream",
          "name": "stdout",
          "text": [
            "p= [0.6 0.4]\n",
            "====================\n",
            "A= [[0.7 0.3]\n",
            " [0.4 0.6]]\n",
            "====================\n",
            "B= [[0.1 0.4 0.5]\n",
            " [0.7 0.2 0.1]]\n"
          ]
        }
      ]
    },
    {
      "cell_type": "code",
      "metadata": {
        "id": "KpjVnYmUoU4B"
      },
      "source": [
        "def Forward_Backward_Decoding(O,T,N,A,B,p,S):\n",
        "    \"\"\"2.Alpha-pass (a-pass)\"\"\"\n",
        "    c=np.zeros((T))                                \n",
        "    a=np.zeros((T,N))\n",
        "    \"\"\"Initialize a[0]\"\"\"\n",
        "    for i in range(0,N):\n",
        "        a[0][i]= p[i]*B[i][O[0]]       #(à compléter )\n",
        "        c[0]+=a[0][i]\n",
        "\n",
        "    \"\"\"Scale a[0]\"\"\"\n",
        "    c[0]=1/c[0]\n",
        "    for i in range(0,N):\n",
        "        a[0][i]=c[0]*a[0][i]\n",
        "\n",
        "    \"\"\"Compute a[t]\"\"\"\n",
        "    for t in range(1,T):\n",
        "        for i in range(0,N):\n",
        "            for j in range(0,N):\n",
        "                a[t][i]= a[t][i]+a[t-1][j]*a[j][i]  #(à compléter )\n",
        "            a[t][i]= a[t][i]*B[i][O[t]] #(à compléter )\n",
        "            c[t]+=a[t][i]\n",
        "        #scale a[t][i]\n",
        "        c[t]=1.0/c[t]\n",
        "        for i in range(0,N):\n",
        "            a[t][i]=c[t]*a[t][i]\n",
        "\n",
        "    \"\"\"3.Beta pass (b-pass)\"\"\"\n",
        "    b=np.zeros((T,N))\n",
        "    #Let b[T-1][i]=1, scaled by cT-1\n",
        "    for i in range(0,N):\n",
        "        b[T-1][i]=c[T-1]\n",
        "    #b-pass\n",
        "    for t in range(T-2,-1,-1):\n",
        "        for i in range(0,N):\n",
        "            for j in range(0,N):\n",
        "                b[t][i]= b[t][i]+A[i][j]*B[j][O[t+1]]*b[t+1][j]  #(à compléter )\n",
        "            #scale b[t][i]\n",
        "            b[t][i]=c[t]*b[t][i]\n",
        "\n",
        "    \"\"\"4. Compute rt(i,j) and rt(i)\"\"\"\n",
        "    rtij=np.zeros((T,N,N))\n",
        "    rti=np.zeros((T,N))\n",
        "    for t in range(0,T-1):\n",
        "        denom=0.0\n",
        "        for i in range(0,N):\n",
        "            for j in range(0,N):\n",
        "                denom+= a[t][i]*A[i][j]*B[j][O[t+1]]*b[t+1][j]  #(à compléter )\n",
        "        for i in range(0,N):\n",
        "            for j in range(0,N):\n",
        "                rtij[t][i][j]=(a[t][i]*A[i][j]*B[j][O[t+1]]*b[t+1][j])/denom\n",
        "                rti[t][i]+=rtij[t][i][j]\n",
        "        \n",
        "    #Cas particulier pour r[T-1][i]\n",
        "    denom=0.0\n",
        "    for i in range(0,N):\n",
        "        denom+=a[T-1][i]\n",
        "    for i in range(0,N):\n",
        "        rti[T-1][i]=a[T-1][i]/denom\n",
        "    opt=[]\n",
        "    for t in range(0,T):\n",
        "        max=0\n",
        "        state=-1\n",
        "        for s in range(0,N):\n",
        "            if rti[t][s]>max:\n",
        "                max=rti[t][s]\n",
        "                state=s\n",
        "        opt.append(S[state])\n",
        "    print (\"Les étapes des états sont \"+ \",\".join(opt))"
      ],
      "execution_count": 38,
      "outputs": []
    },
    {
      "cell_type": "code",
      "metadata": {
        "colab": {
          "base_uri": "https://localhost:8080/"
        },
        "id": "boBWsOhRkLbj",
        "outputId": "822f1a80-d1fb-4969-f13d-523d3026d287"
      },
      "source": [
        "Forward_Backward_Decoding(O,T,N,A,B,p,S)"
      ],
      "execution_count": 39,
      "outputs": [
        {
          "output_type": "stream",
          "name": "stdout",
          "text": [
            "Les étapes des états sont Cold,Cold,Cold,HOT,Cold,Cold,HOT\n"
          ]
        }
      ]
    },
    {
      "cell_type": "code",
      "metadata": {
        "id": "h-dIPC8eXzrc"
      },
      "source": [
        "#On donne ici l'algorithme de viterbi\n",
        "def VITERBI(O,T,N,A,B,p,S):\n",
        "    viterbi=np.zeros((N,T)) #Viterbi[s][t] représente le prob. que HMM est dans l'état j après les t premières observations\n",
        "    opt=[]\n",
        "    max=0\n",
        "    state=-1\n",
        "    for s in range(0,N):\n",
        "        viterbi[s][0]=p[s]*B[s][O[0]]\n",
        "        if viterbi[s][0]>max:\n",
        "            max=viterbi[s][0]\n",
        "            state=s\n",
        "    opt.append(S[state])\n",
        "    for t in range(1,T):\n",
        "        max_s=0\n",
        "        state=-1\n",
        "        for s in range(0,N):\n",
        "            max=0\n",
        "            for s2 in range(0,N):\n",
        "                tmp=viterbi[s2][t-1]*A[s2][s]*B[s][O[t]]\n",
        "                if tmp>max:\n",
        "                    max=tmp\n",
        "            viterbi[s][t]=max\n",
        "            if viterbi[s][t]>max_s:\n",
        "                max_s=viterbi[s][t]\n",
        "                state=s\n",
        "        opt.append(S[state])\n",
        "    max=0\n",
        "    for s in range(0,N):\n",
        "        tmp=viterbi[s][T-1]\n",
        "        if tmp>max:\n",
        "            max=tmp\n",
        "            state=s\n",
        "    print (\"Les étapes des états sont \"+ \",\".join(opt) + \" avec la plus grande probabilité de %s\" %max)"
      ],
      "execution_count": 40,
      "outputs": []
    },
    {
      "cell_type": "code",
      "metadata": {
        "colab": {
          "base_uri": "https://localhost:8080/"
        },
        "id": "65hyVVrqXzre",
        "outputId": "955a086d-b285-41eb-e985-d23c60b52308"
      },
      "source": [
        "## Résoudre le problème de décodage de HMM : Soit le modèle lamda=(A,B,p) et une séquence d'observation O,\n",
        "## Trouver une séquence d'états optimale pour le processus de Markkov sous-jacent\n",
        "## En utilisant deux méthodes :\n",
        "## 1) Méthode de Viterbi\n",
        "## 2) Méthode Forward backward\n",
        "\n",
        "print (\"Viterbi method:\")\n",
        "VITERBI(O,T,N,A,B,p,S)\n",
        "print (\"Forward backward method\")\n",
        "Forward_Backward_Decoding(O,T,N,A,B,p,S)"
      ],
      "execution_count": 41,
      "outputs": [
        {
          "output_type": "stream",
          "name": "stdout",
          "text": [
            "Viterbi method:\n",
            "Les étapes des états sont Cold,HOT,Cold,HOT,HOT,Cold,HOT avec la plus grande probabilité de 3.3191423999999994e-05\n",
            "Forward backward method\n",
            "Les étapes des états sont Cold,Cold,Cold,HOT,Cold,Cold,HOT\n"
          ]
        }
      ]
    },
    {
      "cell_type": "code",
      "metadata": {
        "colab": {
          "base_uri": "https://localhost:8080/"
        },
        "id": "clMKDPomXzrf",
        "outputId": "3ec4c8c1-7724-432f-ebeb-c6ee0002e0f5"
      },
      "source": [
        "#Implementation\n",
        "#Forward-Backward méthode pour trouver le modèle lamda=(A,B,p) étant donné une séquence d'observation O et les dimensions N et M\n",
        "import numpy as np\n",
        "O=np.array([0,1,0,2,1,0,1,1,2,2,1,2,0,1,2,1,2,0])   #Séquence d'observation,0 : S, 1 :M, 2 : L\n",
        "T=O.shape[0]                                        #Durée de la séquence d'observation\n",
        "N=2                                                #Nombre d'états dans le modèle (Froid et Chaud)\n",
        "M=3                                                #Nombre de symboles d'observation\n",
        "\"\"\"1.Initialization, select inital values for matrices A,B and p\"\"\"\n",
        "p= np.array([0.3,0.7])   #(à compléter )\n",
        "A= np.array([[0.6,0.4],[0.3,0.7]])   #(à compléter )\n",
        "B= np.array([[0.1,0.4,0.5],[0.6,0.2,0.2]])#(à compléter )\n",
        "maxIters=100                                        #nombre maximum d'itérations de réestimation\n",
        "iters=0\n",
        "OldLogProb=-np.inf\n",
        "logProb=-20000000.0\n",
        "while(iters<maxIters and OldLogProb<logProb):\n",
        "    OldLogProb=logProb\n",
        "    \"\"\"2.The alpha-pass (a-pass), compute a(i), which is a N*N matrix\"\"\"\n",
        "    c=np.zeros((T))                                \n",
        "    a=np.zeros((T,N))\n",
        "    \"\"\"Initialize a[0]\"\"\"\n",
        "    for i in range(0,N):\n",
        "        a[0][i]= p[i]*B[i][O[0]]#(à compléter )\n",
        "        c[0]+=a[0][i]\n",
        "\n",
        "    \"\"\"Scale a[0]\"\"\"\n",
        "    c[0]=1/c[0]\n",
        "    for i in range(0,N):\n",
        "        a[0][i]=c[0]*a[0][i]\n",
        "\n",
        "    \"\"\"Compute a[t]\"\"\"\n",
        "    for t in range(1,T):\n",
        "        for i in range(0,N):\n",
        "            for j in range(0,N):\n",
        "                a[t][i]= a[t][i]+a[t-1][j]*a[j][i] #(à compléter )\n",
        "            a[t][i]= a[t][i]*B[i][O[t]] #(à compléter )\n",
        "            c[t]+=a[t][i]\n",
        "        #scale a[t][i]\n",
        "        c[t]=1.0/c[t]\n",
        "        for i in range(0,N):\n",
        "            a[t][i]=c[t]*a[t][i]\n",
        "\n",
        "    \"\"\"3.The beta pass (b-pass)\"\"\"\n",
        "    b=np.zeros((T,N))\n",
        "    #Soit b[T-1][i]=1, mis à l'échelle par cT-1\n",
        "    for i in range(0,N):\n",
        "        b[T-1][i]=c[T-1]\n",
        "    #b-pass\n",
        "    for t in range(T-2,-1,-1):\n",
        "        for i in range(0,N):\n",
        "            for j in range(0,N):\n",
        "                b[t][i]= b[t][i]+A[i][j]*B[j][O[t+1]]*b[t+1][j]#(à compléter )\n",
        "            #scale b[t][i]\n",
        "            b[t][i]=c[t]*b[t][i]\n",
        "\n",
        "    \"\"\"4. Compute rt(i,j) and rt(i)\"\"\"\n",
        "    rtij=np.zeros((T,N,N))\n",
        "    rti=np.zeros((T,N))\n",
        "    for t in range(0,T-1):\n",
        "        denom=0.0\n",
        "        for i in range(0,N):\n",
        "            for j in range(0,N):\n",
        "                denom+= a[t][i]*A[i][j]*B[j][O[t+1]]*b[t+1][j]#(à compléter )\n",
        "        for i in range(0,N):\n",
        "            for j in range(0,N):\n",
        "                rtij[t][i][j]=(a[t][i]*A[i][j]*B[j][O[t+1]]*b[t+1][j])/denom\n",
        "                rti[t][i]+=rtij[t][i][j]\n",
        "        \n",
        "    #Cas particulier pour r[T-1][i]\n",
        "    denom=0.0\n",
        "    for i in range(0,N):\n",
        "        denom+=a[T-1][i]\n",
        "    for i in range(0,N):\n",
        "        rti[T-1][i]=a[T-1][i]/denom\n",
        "\n",
        "    \"\"\"5. Ré-estimater A,B and p\"\"\"\n",
        "    # Ré-estimer la partition\n",
        "    for i in range(0,N):\n",
        "        p[i]=rti[0][i]                                \n",
        "    # Ré-estimer A\n",
        "    for i in range(0,N):\n",
        "        for j in range(0,N):\n",
        "            numer=0.0\n",
        "            denom=0.0\n",
        "            for t in range(0,T-1):\n",
        "                numer+=rtij[t][i][j]\n",
        "                denom+=rti[t][i]\n",
        "            A[i][j]= numer/denom #(à compléter )\n",
        "\n",
        "    #Ré-estimer B\n",
        "    for i in range(0,N):\n",
        "        for j in range(0,M):\n",
        "            numer=0.0\n",
        "            denom=0.0\n",
        "            for t in range(0,T):\n",
        "                if(O[t]==j):\n",
        "                    numer+=rti[t][i]\n",
        "                denom+=rti[t][i]\n",
        "            B[i][j]= numer/denom #(à compléter )\n",
        "\n",
        "\n",
        "    \"\"\"6. Calculer log[P(O|lamda)]\"\"\"\n",
        "    logProb=0.0\n",
        "    for i in range(0,T):\n",
        "        logProb+=np.log(c[i])\n",
        "    logProb=-logProb\n",
        "    iters+=1\n",
        "    print( logProb)\n",
        "    \n",
        "print( A)\n",
        "print( B)\n",
        "print( p)"
      ],
      "execution_count": 43,
      "outputs": [
        {
          "output_type": "stream",
          "name": "stdout",
          "text": [
            "-24.540214483564466\n",
            "-23.3836076739236\n",
            "-24.532893247702937\n",
            "[[0.60888005 0.39111995]\n",
            " [0.36168169 0.63831831]]\n",
            "[[0.11447286 0.44014516 0.44538198]\n",
            " [0.27847355 0.38867051 0.33285594]]\n",
            "[0.00354762 0.99645238]\n"
          ]
        }
      ]
    },
    {
      "cell_type": "code",
      "metadata": {
        "id": "kqKLzesusRmn"
      },
      "source": [
        ""
      ],
      "execution_count": null,
      "outputs": []
    }
  ]
}