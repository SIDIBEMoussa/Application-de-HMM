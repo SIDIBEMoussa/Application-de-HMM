{
  "nbformat": 4,
  "nbformat_minor": 0,
  "metadata": {
    "hide_input": false,
    "kernelspec": {
      "display_name": "Python 3",
      "language": "python",
      "name": "python3"
    },
    "language_info": {
      "codemirror_mode": {
        "name": "ipython",
        "version": 3
      },
      "file_extension": ".py",
      "mimetype": "text/x-python",
      "name": "python",
      "nbconvert_exporter": "python",
      "pygments_lexer": "ipython3",
      "version": "3.7.3"
    },
    "colab": {
      "name": "TP1 functions.ipynb",
      "provenance": [],
      "include_colab_link": true
    }
  },
  "cells": [
    {
      "cell_type": "markdown",
      "metadata": {
        "id": "view-in-github",
        "colab_type": "text"
      },
      "source": [
        "<a href=\"https://colab.research.google.com/github/SIDIBEMoussa/Application-de-HMM/blob/main/TP1_functions.ipynb\" target=\"_parent\"><img src=\"https://colab.research.google.com/assets/colab-badge.svg\" alt=\"Open In Colab\"/></a>"
      ]
    },
    {
      "cell_type": "markdown",
      "metadata": {
        "id": "LOt7EjBMhvYR"
      },
      "source": [
        "Une implémentation du pseudo code :"
      ]
    },
    {
      "cell_type": "code",
      "metadata": {
        "id": "rFwN3drohvYW"
      },
      "source": [
        "import numpy as np\n",
        "\n",
        "\"\"\"\n",
        "Compte tenu des observations\n",
        "\"\"\"\n",
        "O = np.array([[0,1,0,2]]) #observation en séquence\n",
        "T = len(O[0]) #nombre d'observations en séquence\n",
        "    \n",
        "\"\"\"\n",
        "Initialiser les matrices\n",
        "\"\"\"\n",
        "A = np.array([[.7,.3],\n",
        "              [.4,.6]]) \n",
        "B = np.array([[.1,.4,.5],\n",
        "              [.7,.2,.1]]) \n",
        "pi = np.array([.6,.4]) \n",
        "\n",
        "\"\"\"\n",
        "Limites globales\n",
        "\"\"\"\n",
        "N = np.shape(B)[0]\n",
        "M = np.shape(B)[1]"
      ],
      "execution_count": 6,
      "outputs": []
    },
    {
      "cell_type": "code",
      "metadata": {
        "id": "GSUg2Pxzixdz"
      },
      "source": [
        "def init_matrices(O, N):\n",
        "    \"\"\"\n",
        "    Créer des valeurs initiales aléatoires pour les matrices \n",
        "    qui sont des lignes stochastiques O est la séquence d'états observée \n",
        "    N  est le nombre d'états cachés disponibles\n",
        "    \"\"\"\n",
        "    T = len(O[0])\n",
        "    M = len(np.unique(O))\n",
        "    A = np.random.rand(N,N)\n",
        "    A = A/A.sum(axis=1)[:,None]\n",
        "    B = np.random.rand(N,M)\n",
        "    B = B/B.sum(axis=1)[:,None]\n",
        "    pi = np.random.rand(N)\n",
        "    pi = pi/pi.sum()\n",
        "    c = np.zeros((T))\n",
        "    alpha = np.zeros((T,N))\n",
        "    beta = np.zeros((T,N))\n",
        "    gamma = np.zeros((T,N))\n",
        "    digam = np.zeros((T,N,N))\n",
        "    return A, B, pi, alpha, beta, gamma, digam, M, T, c"
      ],
      "execution_count": 7,
      "outputs": []
    },
    {
      "cell_type": "code",
      "metadata": {
        "id": "3yqjNOcZixWu"
      },
      "source": [
        "\n",
        "#A, B, pi, M = init_matrices(O,N)\n",
        "\n",
        "\"\"\"\n",
        "Initialiser les itérateurs\n",
        "\"\"\"\n",
        "maxIters = 100\n",
        "iters = 0\n",
        "oldLogProb = -10**100 #moins l'infini...\n",
        "\n",
        "c = np.zeros((T))\n",
        "alpha = np.zeros((T,N))\n",
        "beta = np.zeros((T,N))\n",
        "gamma = np.zeros((T,N))\n",
        "digam = np.zeros((T,N,N))\n",
        "\n",
        "\n",
        "\"\"\"\n",
        "Alpha pass\n",
        "\"\"\"\n",
        "def apass(A,B,pi,alpha,N,T,c):\n",
        "    \"\"\"Calculer alpha[0,i]\"\"\"\n",
        "    c[0] = 0\n",
        "    for i in range(N):\n",
        "        alpha[0,i] = pi[i]*B[i,O[0,0]]\n",
        "        c[0] = c[0] + alpha[0,i]\n",
        "        \n",
        "    \"\"\"Scale alpha[0,i]\"\"\"\n",
        "    c[0] = 1/c[0]\n",
        "    for i in range(N):\n",
        "        alpha[0,i] = c[0]*alpha[0,i]\n",
        "    \n",
        "    \"\"\"Calculer alpha[t,i]\"\"\"\n",
        "    for t in range(1,T): \n",
        "        c[t] = 0\n",
        "        \n",
        "        for i in range(N): \n",
        "            alpha[t,i] = 0\n",
        "            for j in range(N): \n",
        "                alpha[t,i] = alpha[t,i] + alpha[t-1,j]*A[j,i]\n",
        "            alpha[t,i] = alpha[t,i]*B[i,O[0,t]]\n",
        "            c[t] = c[t] + alpha[t,i]\n",
        "            \n",
        "        c[t] = 1/c[t] #Scale alpha[t,i]\n",
        "        for i in range(N):\n",
        "            alpha[t,i] = c[t]*alpha[t,i]\n",
        "    return alpha, c"
      ],
      "execution_count": 8,
      "outputs": []
    },
    {
      "cell_type": "code",
      "metadata": {
        "id": "OfHoJbyfixOl"
      },
      "source": [
        "\n",
        "\"\"\"\n",
        "Beta pass\n",
        "\"\"\"\n",
        "def bpass(A,B,pi,beta,N,T,c):\n",
        "    \"\"\"beta[t,i]=1 mis à l'échelle par c[t-1]\"\"\"\n",
        "    for i in range(N):\n",
        "        beta[T-1,i] = c[T-1]\n",
        "        \n",
        "    \"\"\"Beta pass\"\"\"\n",
        "    for t in range(T-2,-1,-1):\n",
        "        for i in range(N):\n",
        "            beta[t,i] = 0\n",
        "            for j in range(N):\n",
        "                beta[t,i] = beta[t,i] + A[i,j]*B[j,O[0,t+1]]*beta[t+1,j]\n",
        "            #Scale beta[t,i]\n",
        "            beta[t,i] = c[t]*beta[t,i]\n",
        "            \n",
        "    return beta, c"
      ],
      "execution_count": 9,
      "outputs": []
    },
    {
      "cell_type": "code",
      "metadata": {
        "id": "xzSRfctLjFaC"
      },
      "source": [
        "\n",
        "\n",
        "\"\"\"\n",
        "Digamma\n",
        "\"\"\"\n",
        "def digamma(A,B,pi,alpha,beta,gamma,digam,N,T):\n",
        "    \"\"\"Pas de normalisation puisque alpha bêta déjà mis à l'échelle\"\"\"\n",
        "    for t in range(T-1):\n",
        "        for i in range(N):\n",
        "            gamma[t,i] = 0\n",
        "            for j in range(N):\n",
        "                digam[t,i,j] = alpha[t,i]*A[i,j]*B[j,O[0,t+1]]*beta[t+1,j]\n",
        "                gamma[t,i] = gamma[t,i] + digam[t,i,j]\n",
        "    \"\"\"Cas particulier pour gamma[t-1,i]\"\"\"\n",
        "    for i in range(N):\n",
        "        gamma[T-1,i] = alpha[T-1,i]\n",
        "    \n",
        "    return gamma, digam"
      ],
      "execution_count": 10,
      "outputs": []
    },
    {
      "cell_type": "code",
      "metadata": {
        "id": "L8qefNgPjFUD"
      },
      "source": [
        "\n",
        "\"\"\"\n",
        "Ré-estimer A, B, pi\n",
        "\"\"\"\n",
        "def re_est(A,B,pi,gamma,digam):\n",
        "    \"\"\"Ré-estimer pi\"\"\"\n",
        "    for i in range(N):\n",
        "        pi[i] = gamma[0,i]\n",
        "        \n",
        "    \"\"\"Ré-estimer A\"\"\"\n",
        "    for i in range(N):\n",
        "        for j in range(N):\n",
        "            numer = 0\n",
        "            denom = 0\n",
        "            for t in range(T-1):\n",
        "                numer = numer + digam[t,i,j]\n",
        "                denom = denom + gamma[t,i]\n",
        "            A[i,j] = numer/denom\n",
        "            \n",
        "    \"\"\"Ré-estimer B\"\"\"\n",
        "    for i in range(N):\n",
        "        for j in range(M):\n",
        "            numer = 0\n",
        "            denom = 0\n",
        "            for t in range(T):\n",
        "                if O[0,t] == j: numer = numer + gamma[t,i]\n",
        "                denom = denom + gamma[t,i]\n",
        "            B[i,j] = numer/denom\n",
        "    return A, B, pi"
      ],
      "execution_count": 11,
      "outputs": []
    },
    {
      "cell_type": "code",
      "metadata": {
        "id": "jiYcA0PRjFCk"
      },
      "source": [
        "\"\"\"\n",
        "Calculer log P(O|lambda)\n",
        "\"\"\"\n",
        "def logprob(c):\n",
        "    return -np.sum(np.log(c))      \n",
        "         \n",
        "\"\"\"\n",
        "Rassembler le tout\n",
        "\"\"\"\n",
        "def markov(O,N):\n",
        "    iters = 0\n",
        "    logProb = 0\n",
        "    delta = 1\n",
        "    A, B, pi, alpha, beta, gamma, digam, M, T, c = init_matrices(O,N)\n",
        "    while iters <= maxIters and logProb >= oldLogProb and delta >= 0.000001:\n",
        "        alpha, c = apass(A,B,pi,alpha,N,T,c)\n",
        "        beta, c = bpass(A,B,pi,beta,N,T,c)\n",
        "        gamma, digam = digamma(A,B,pi,alpha,beta,gamma,digam,N,T)\n",
        "        A, B, pi = re_est(A,B,pi,gamma,digam)\n",
        "        delta1 = logProb\n",
        "        logProb = logprob(c)\n",
        "        delta = np.absolute(delta1 - logProb)\n",
        "        iters = iters + 1\n",
        "    print(\"Interations: \", iters)\n",
        "    return A,B,pi,alpha,beta,gamma,digam"
      ],
      "execution_count": 12,
      "outputs": []
    },
    {
      "cell_type": "code",
      "metadata": {
        "id": "cvcGeUigjE6J"
      },
      "source": [
        "\"\"\"\n",
        "Trouver P(O|lambda)\n",
        "\"\"\"\n",
        "def p_obs_lambda(alpha):\n",
        "    return np.sum(alpha[T-1,:])\n",
        "\n",
        "\"\"\"\n",
        "Trouver les états cachés les plus probables\n",
        "\"\"\"\n",
        "def p_state(gamma):\n",
        "    return np.argmax(gamma,axis=1)"
      ],
      "execution_count": 13,
      "outputs": []
    },
    {
      "cell_type": "markdown",
      "metadata": {
        "id": "nQJLpk0phvYg"
      },
      "source": [
        "### Etant donné la séquence d'observation O et les dimensions N et M, trouver le modèle lambda= (A;B; pi) qui maximise la probabilité de O ?.Cela peut être considéré comme l'apprentissage du modèle pour mieux l'adapté aux données observées."
      ]
    },
    {
      "cell_type": "markdown",
      "metadata": {
        "id": "mqo5a_RZhvYg"
      },
      "source": [
        "### Étant donné lambda= (A;B;pi ) et la séquence d'observation O, trouver la séquence d'états optimale pour le processus de Markov sous-jacent ?. "
      ]
    },
    {
      "cell_type": "code",
      "metadata": {
        "colab": {
          "base_uri": "https://localhost:8080/"
        },
        "id": "3bFY7JrmkUo5",
        "outputId": "0d5d4776-4bc1-4e4f-fb59-7902199da6c3"
      },
      "source": [
        "A,B,pi,alpha,beta,gamma,digam=markov(O,N)\n",
        "pi"
      ],
      "execution_count": 20,
      "outputs": [
        {
          "output_type": "stream",
          "name": "stdout",
          "text": [
            "Interations:  11\n"
          ]
        },
        {
          "output_type": "execute_result",
          "data": {
            "text/plain": [
              "array([2.84811254e-136, 1.00000000e+000])"
            ]
          },
          "metadata": {},
          "execution_count": 20
        }
      ]
    },
    {
      "cell_type": "code",
      "metadata": {
        "colab": {
          "base_uri": "https://localhost:8080/"
        },
        "id": "f7TrxD_Sll14",
        "outputId": "a749e285-7e6a-4e34-f1e6-dbc88221b39d"
      },
      "source": [
        "A"
      ],
      "execution_count": 21,
      "outputs": [
        {
          "output_type": "execute_result",
          "data": {
            "text/plain": [
              "array([[8.66988549e-98, 1.00000000e+00],\n",
              "       [1.00000000e+00, 1.80292156e-32]])"
            ]
          },
          "metadata": {},
          "execution_count": 21
        }
      ]
    },
    {
      "cell_type": "code",
      "metadata": {
        "colab": {
          "base_uri": "https://localhost:8080/"
        },
        "id": "yXfJPOTalnbF",
        "outputId": "ea6c4e10-f3c4-437c-8b19-388dc7eba16c"
      },
      "source": [
        "B"
      ],
      "execution_count": 22,
      "outputs": [
        {
          "output_type": "execute_result",
          "data": {
            "text/plain": [
              "array([[4.33495362e-98, 5.00000000e-01, 5.00000000e-01],\n",
              "       [1.00000000e+00, 4.27761094e-63, 1.80292156e-32]])"
            ]
          },
          "metadata": {},
          "execution_count": 22
        }
      ]
    },
    {
      "cell_type": "code",
      "metadata": {
        "colab": {
          "base_uri": "https://localhost:8080/"
        },
        "id": "BLlD-Fc0kqS4",
        "outputId": "c8191c40-b281-494b-8994-e693ec4d0ee5"
      },
      "source": [
        "p_obs_lambda(alpha)"
      ],
      "execution_count": 18,
      "outputs": [
        {
          "output_type": "execute_result",
          "data": {
            "text/plain": [
              "1.0"
            ]
          },
          "metadata": {},
          "execution_count": 18
        }
      ]
    },
    {
      "cell_type": "markdown",
      "metadata": {
        "id": "G6MVNfrmlzUq"
      },
      "source": [
        "# La séquence maximal"
      ]
    },
    {
      "cell_type": "code",
      "metadata": {
        "colab": {
          "base_uri": "https://localhost:8080/"
        },
        "id": "cNlhV9CPlR50",
        "outputId": "7ea1722f-2794-43c5-dd02-cd4cb9a33e8e"
      },
      "source": [
        "p_state(gamma)"
      ],
      "execution_count": 19,
      "outputs": [
        {
          "output_type": "execute_result",
          "data": {
            "text/plain": [
              "array([0, 0, 1, 1])"
            ]
          },
          "metadata": {},
          "execution_count": 19
        }
      ]
    }
  ]
}