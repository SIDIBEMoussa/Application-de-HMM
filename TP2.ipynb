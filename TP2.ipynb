{
  "nbformat": 4,
  "nbformat_minor": 0,
  "metadata": {
    "hide_input": false,
    "kernelspec": {
      "display_name": "Python 3",
      "language": "python",
      "name": "python3"
    },
    "language_info": {
      "codemirror_mode": {
        "name": "ipython",
        "version": 3
      },
      "file_extension": ".py",
      "mimetype": "text/x-python",
      "name": "python",
      "nbconvert_exporter": "python",
      "pygments_lexer": "ipython3",
      "version": "3.7.3"
    },
    "colab": {
      "name": "TP2.ipynb",
      "provenance": [],
      "include_colab_link": true
    }
  },
  "cells": [
    {
      "cell_type": "markdown",
      "metadata": {
        "id": "view-in-github",
        "colab_type": "text"
      },
      "source": [
        "<a href=\"https://colab.research.google.com/github/SIDIBEMoussa/Application-de-HMM/blob/main/TP2.ipynb\" target=\"_parent\"><img src=\"https://colab.research.google.com/assets/colab-badge.svg\" alt=\"Open In Colab\"/></a>"
      ]
    },
    {
      "cell_type": "markdown",
      "metadata": {
        "id": "LeVuh-b0mdqU"
      },
      "source": [
        "# TP2\n",
        "\n",
        "# Introduction\n",
        "\n",
        "- Le but de ce TP est de **se familiariser avec les concepts** des **`modèles de Markov cachés`** (**= HMM**).\n",
        "- La portée de l'ambition est donc limitée et les exemples sont très simples.\n",
        "\n",
        "Sujets principaux:\n",
        "- Formulation du problème à l'aide d'un exemple de base pour introduire la **terminologie HMM**.\n",
        "- Illustration de la **règle de Bayes** pour déterminer l'état caché le plus probable compte tenu d'une observation.\n",
        "- Implémentation du **Forward Algorithm** et du **Backward Algorithm** pour calculer la probabilité d'une séquence d'observation particulière.\n",
        "- Définition et illustration des bénéfices de la **Programmation Dynamique**.\n",
        "- Implémentation de l'**Algorithme de Décodage de Viterbi** pour trouver la séquence d'états cachés la plus probable étant donné une séquence d'observation.\n",
        "- Implémentation de l'**algorithme de Baum-Welch** pour trouver les paramètres HMM les plus probables compte tenu de certaines séquences d'observation.\n",
        "\n",
        "\n",
        "# Motivation du problème\n",
        "\n",
        "- Votre voiture roule sur une **autoroute à 2 voies**.\n",
        "- Imaginez que vous puissiez **suivre à distance la vitesse de la voiture** (par exemple, elle est communiqué).\n",
        "- Mais vous n'avez **pas d'accès direct à la position latérale** ('voie de droite' de 'voie de gauche').\n",
        "- Formellement, vous **ne pouvez pas observer directement la marche stochastique sous-jacente entre les états de « voie »**.\n",
        "- Comment pouvez-vous **déduire la \"voie\"** en vous basant sur les informations uniques que vous recevez (la \"vitesse\") ?\n",
        "### Probabilité d'émission\n",
        "\n",
        "Si je vous dis que je conduis à « basse vitesse », vous **pouvez deviner** que je suis sur la voie de droite.\n",
        "- Par exemple, parce que je conduis seul à un rythme raisonnable.\n",
        "- Soit parce que je suis bloqué par un véhicule lent alors que je n'arrive pas à le reprendre.\n",
        "- Mais je pourrais aussi rouler vite sur cette « voie de droite »\n",
        "\n",
        "De même, si vous êtes informé d'une « vitesse élevée », vous pourriez dire que je suis **plus susceptible** de conduire sur la voie de gauche.\n",
        "- Probablement en dépassant un autre véhicule.\n",
        "- Néanmoins, ce n'est **pas toujours vrai** : Pensez à la situation où vous attendez sur la voie de gauche derrière un camion essayant de dépasser un autre camion.\n",
        "\n",
        "On obtient ici une **première intuition** :\n",
        "- La variable \"voie\" semble avoir un impact sur la variable \"vitesse\".\n",
        "- En d'autres termes : **vous ne roulez pas au même rythme selon que vous êtes sur la « voie de gauche » ou la « voie de droite »**.\n",
        "- Mais la relation n'est **pas déterministe**. C'est **stochastique**.\n",
        "\n",
        "Ce **résultat de causalité** sera modélisé à l'aide de **`probabilités d'émission`** dans ce qui suit.\n",
        "\n",
        "### Probabilité de transition\n",
        "\n",
        "Vous pourriez avoir une deuxième intuition sur le **processus séquentiel** :\n",
        "- Les conducteurs humains **restent généralement sur leurs voies**.\n",
        "- Par conséquent, si vous êtes sur la « voie de droite » au temps « t », vous êtes probablement toujours sur la « voie de droite » au temps « t+1 ».\n",
        "- Encore une fois, cela **ne tient pas toujours** et vous pouvez trouver des **exceptions**.\n",
        "- Mais voici une seconde intuition : **la `voie` à l'instant `t` est influencée par la `voie` à l'instant `t-1`**.\n",
        "\n",
        "Le concept de **`probabilité de transition`** sera utilisé pour modéliser cette seconde remarque.\n",
        "\n",
        "\n",
        "## Terminologie\n",
        "\n",
        "Dans les sections suivantes, nous verrons comment pouvons-nous **soutenir mathématiquement ces intuitions**.\n",
        "\n",
        "| ![La `vitesse` est `l'observation` tandis que la `voie` constitue `l'état caché`. Quelques exemples montrent que toutes les `émissions` sont possibles.](docs/terminology.PNG \"La `vitesse` est l `observation` tandis que la `voie` constitue `l'état caché`. Certains exemples montrent que toutes les `émissions` sont possibles .\") |\n",
        "|:--:|\n",
        "| *La `vitesse` est `l'observation` tandis que la `voie` constitue `l'état caché`. Quelques exemples montrent que toutes les `émissions` sont possibles.* |\n",
        "\n",
        "\n",
        "\n",
        "\n",
        "## Objectifs\n",
        "\n",
        "Nous pouvons maintenant définir trois problèmes qui peuvent être résolus par un HMM :\n",
        "\n",
        "- 1- **Apprentissage**\n",
        "\t- Le premier est **l'apprentissage des paramètres** de sa **structure latente** (modèle 'émission', modèle 'transition' et distribution 'état initial').\n",
        "\t- Dans le cas d'une structure connue et d'un **échantillonnage pleinement observable**, on peut appliquer le concept d'**Estimation de Vraisemblance Maximale** (MLE) :\n",
        "\t\t- Certaines séquences d'observation (`vitesse`) et leurs états associés (`voie`) ont été collectés. Les **échantillons** forment le **ensemble de données d'entraînement**.\n",
        "\t\t-  Les paramètres peuvent être sélectionnés de manière à **maximiser la probabilité** pour le modèle d'**avoir produit les données** à partir de l'ensemble de données donné.\n",
        "\t\t-  La question [Q1](#q1) introduit cette méthode d'**apprentissage supervisé**.\n",
        "\t- S'il n'est **pas possible d'échantillonner à partir d'états cachés**, optez pour l'**apprentissage non supervisé**.\n",
        "\t\t- Une méthode basée sur la **Maximisation des attentes** (EM) est présentée dans [Q6](#q6).\n",
        "\n",
        "- 2- **Évaluation**\n",
        "\t- Une fois la structure du HMM définie et ses paramètres déterminés, la deuxième tâche consiste à trouver ** quelle est la probabilité qu'il obtienne une séquence d'observation particulière **.\n",
        "\t- Ce problème, parfois appelé **\"Scoring\"**, est traité à la question [Q3](#q3).\n",
        "\n",
        "- 3- **Inférence**\n",
        "\t- Dans le troisième problème, nous voulons **déduire la séquence de voies** parcourues par la voiture ((`droit` ou `gauche`) = **état caché**) sur la base d'une **séquence de mesures de vitesse* * (= **observations**).\n",
        "\t- Quatre types d'inférence peuvent être distingués :\n",
        "\t\t- **Filtrage** : déterminer le **dernier état de croyance**, c'est-à-dire la distribution postérieure p(`voie(t)` | [`vitesse(1)`, ..., `vitesse(t)`]) . Ceci est détaillé dans [Q4](#q4).\n",
        "\t\t- **Décodage** : déterminer l'état caché **complet** **séquence** qui donne la **meilleure explication** pour l'émission de la séquence d'observation, comme expliqué dans [Q5](#q5).\n",
        "\t\t- **Prédiction** : déterminer la probabilité de l'**état caché futur en `k` pas**, c'est-à-dire la distribution conditionnelle postérieure p(`voie(t+k)` | [`vitesse(1)`, . .., `vitesse(t)`] ). Il est mentionné dans [Q4](#q4).\n",
        "\t\t- **Lissage** : déterminez la probabilité pour l'**état caché passé il y a `k` pas**, c'est-à-dire la distribution conditionnelle postérieure p(`voie(t-k)` | [`vitesse(1)`, ... , `vitesse(t)`] ). Il est mentionné dans [Q4](#q4).\n",
        "\t\t- Avant d'appliquer ces techniques aux séquences, [Q2](#q2) montre comment faire des inférences pour des **observations simples**.\n",
        "\n",
        "## Hypothèses\n",
        "Pour garder le problème aussi simple que possible :\n",
        "- **Discrétisons** la `vitesse` **variable d'observation** en `faible vitesse` et `haute vitesse`.\n",
        "- Les pas de temps sont également discrétisés.\n",
        "- Les transitions de voie sont ignorées : soit vous êtes sur la « voie de gauche », soit vous êtes sur la « voie de droite ».\n",
        "\n",
        "### Processus stationnaire\n",
        "\n",
        "- On suppose que les modèles HMM (matrice de transition, matrice d'émission) restent **constants dans le temps**.\n",
        "- p[`vitesse(t)` | `voie(t)`] et p[`voie(t+1)` | `voie(t)`] sont indépendants de `t`.\n",
        "\n",
        "### Observation Indépendance\n",
        "\n",
        "- Nous avons parlé de probabilité d'émission, expliquant que l'état `voie(t)` impacte l'observation `vitesse(t)` émise au même pas de temps (`t`).\n",
        "\t- On pourrait imaginer d'autres sources d'influence : « vitesse(t-1) » et « voie(t-1) » par exemple.\n",
        "- Ici, nous supposons que la **probabilité d'une observation ne dépend que de l'état qui a produit l'observation** et non de tout autre état ou de toute autre observation.\n",
        "\t- En d'autres termes, chaque variable d'observation \"vitesse\" ne dépend que de l'état courant \"voie\".\n",
        "\t- Il s'agit d'une **hypothèse forte** puisque nous décidons de ne pas capturer les dépendances directes entre chaque élément de la séquence d'observation.\n",
        "\t- Mais cela va massivement **relâcher le calcul** pendant l'inférence.\n",
        "- La **probabilité conditionnelle conjointe** suivante peut être simplifiée :\n",
        "\t- p(`vitesse(t)` | `voie(1)` ... `voie(t)`, `vitesse(1)` ... `vitesse(t-1)`) = p(`vitesse( t)` | `voie(t)`).\n",
        "\n",
        "### Propriété de Markov de premier ordre\n",
        "\n",
        "- Nous venons de dire qu'il est utile de connaître la `voie` présente (au temps `t`) pour en déduire la future `voie` (au temps `t+1`).\n",
        "\n",
        "- Voici une hypothèse forte sur l'inférence dans ce processus stochastique :\n",
        "\t- La distribution de probabilité conditionnelle des **états futurs** (conditionnellement aux états passés et présents) **dépend uniquement de l'état présent**, pas de la séquence d'événements qui l'ont précédé.\n",
        "- En d'autres termes, **\"le futur est indépendant du passé étant donné le présent\"**.\n",
        "- Cette **hypothèse forte** est connue sous le nom de **Propriété de Markov** de premier ordre (également appelée **\"propriété sans mémoire\"**) et facilitera nos calculs.\n",
        "\n",
        "Sur la base de ces hypothèses, le problème peut être modélisé à l'aide d'un **modèle graphique** :\n",
        "- Les HMM sont des **modèles orientés** (d'où des flèches) puisqu'on peut distinguer quelle est la raison (état de la voie) et quel est le résultat (observation de la vitesse).\n",
        "- La **Propriété de Markov** implique des connexions entre états consécutifs.\n",
        "- L'**indépendance de sortie** fait que chaque observation ne reçoit qu'un seul front (provenant de l'état associé).\n",
        "\n",
        "| ![Représentation graphique HMM.](docs/hmm_graphical_model.PNG \"Représentation graphique HMM.\")  | \n",
        "|:--:| \n",
        "| *Représentation graphique HMM.* |\n",
        "\n",
        "# Formulation du problème\n",
        "\n",
        "## Définition :\n",
        "\n",
        "Un modèle discret de Markov caché (HMM) est un **5-tuple** composé de :\n",
        "\n",
        "- Un ensemble d'**États cachés** : variable aléatoire discrète `lane` dans {`right_lane`, `left_lane`}.\n",
        "- Un ensemble d'**Observations** possibles : variable aléatoire discrète `speed` dans {`low_speed`, `high_speed`}.\n",
        "- Une matrice stochastique qui donne des **probabilités d'émission** : p[`speed(t)` | `lane(t)`].\n",
        "- Une matrice stochastique qui donne des **probabilités de transition** : p[`lane(t+1)` | `lane(t)`].\n",
        "- Une distribution **Probabilité d'état initial** : p[`lane(t=1)`].\n",
        "\n",
        "# Les questions\n",
        "\n",
        "- [Q1](#q1) - Comment **estimer les paramètres** de notre HMM ?\n",
        "- [Q2](#q2) - Étant donné une **observation unique de « vitesse »**, quelle est la probabilité que la voiture se trouve dans chacune des deux voies ?\n",
        "- [Q3](#q3) - Quelle est la probabilité d'observer une **séquence particulière de mesures de « vitesse »** ?\n",
        "- [Q4](#q4) - Étant donné une **séquence d'observations de « vitesse »**, quelle est la **« voie »** actuelle la plus probable ?\n",
        "- [Q5](#q5) - Étant donné une **séquence d'observations de « vitesse »**, quelle est la **séquence de « voies » sous-jacente la plus probable** ?\n",
        "- [Q6](#q6) - Comment **estimer les paramètres** de notre HMM lorsque **aucune annotation \"d'état\"** n'est présente dans les données d'entraînement ?"
      ]
    },
    {
      "cell_type": "markdown",
      "metadata": {
        "id": "s-iQyzPBot3X"
      },
      "source": [
        "# Réponses"
      ]
    },
    {
      "cell_type": "markdown",
      "metadata": {
        "id": "QMw1pe_boyHG"
      },
      "source": [
        "\n",
        "\n",
        "*   [Q1](q1)- On estime par la méthode brownien\n",
        "\n"
      ]
    },
    {
      "cell_type": "code",
      "metadata": {
        "colab": {
          "base_uri": "https://localhost:8080/"
        },
        "id": "3MeEuPcymhFQ",
        "outputId": "02c8aac8-05c7-4c58-89ce-74016f99a82a"
      },
      "source": [
        "from tp1_functions import *"
      ],
      "execution_count": 4,
      "outputs": [
        {
          "output_type": "stream",
          "name": "stdout",
          "text": [
            "Interations:  9\n"
          ]
        }
      ]
    },
    {
      "cell_type": "markdown",
      "metadata": {
        "id": "XBp4COfNos2q"
      },
      "source": [
        ""
      ]
    },
    {
      "cell_type": "code",
      "metadata": {
        "id": "8KGVYZu_oHFg"
      },
      "source": [
        "import numpy as np\n",
        "\n",
        "\"\"\"\n",
        "Compte tenu des observations\n",
        "\"\"\"\n",
        "O = np.array([[0,1,0,2]]) #observation en séquence\n",
        "T = len(O[0]) #nombre d'observations en séquence\n",
        "    \n",
        "\"\"\"\n",
        "Initialiser les matrices\n",
        "\"\"\"\n",
        "A = np.array([[.7,.3],\n",
        "              [.4,.6]]) \n",
        "B = np.array([[.1,.4,.5],\n",
        "              [.7,.2,.1]]) \n",
        "pi = np.array([.6,.4]) \n",
        "\n",
        "\"\"\"\n",
        "Limites globales\n",
        "\"\"\"\n",
        "N = np.shape(B)[0]\n",
        "M = np.shape(B)[1]"
      ],
      "execution_count": 5,
      "outputs": []
    },
    {
      "cell_type": "code",
      "metadata": {
        "colab": {
          "base_uri": "https://localhost:8080/"
        },
        "id": "zD-cTslZrnoz",
        "outputId": "2b24670b-44a4-4762-f7af-c3378449ad7c"
      },
      "source": [
        "A,B,pi,alpha,beta,gamma,digam=markov(O,N)\n",
        "pi"
      ],
      "execution_count": 6,
      "outputs": [
        {
          "output_type": "stream",
          "name": "stdout",
          "text": [
            "Interations:  7\n"
          ]
        },
        {
          "output_type": "execute_result",
          "data": {
            "text/plain": [
              "array([1.00000000e+00, 1.42727781e-70])"
            ]
          },
          "metadata": {},
          "execution_count": 6
        }
      ]
    },
    {
      "cell_type": "code",
      "metadata": {
        "colab": {
          "base_uri": "https://localhost:8080/"
        },
        "id": "Eik2n36YrrqJ",
        "outputId": "8dfb848f-acae-4be0-8751-d2d8ce3aee8c"
      },
      "source": [
        "print(A)\n",
        "print(\"=\"*20)\n",
        "print(B)"
      ],
      "execution_count": 9,
      "outputs": [
        {
          "output_type": "stream",
          "name": "stdout",
          "text": [
            "[[9.87390041e-30 1.00000000e+00]\n",
            " [1.00000000e+00 2.19964880e-60]]\n",
            "====================\n",
            "[[1.00000000e+00 2.45100940e-57 9.87390041e-30]\n",
            " [1.09982439e-60 5.00000000e-01 5.00000000e-01]]\n"
          ]
        }
      ]
    },
    {
      "cell_type": "code",
      "metadata": {
        "colab": {
          "base_uri": "https://localhost:8080/"
        },
        "id": "Z7WQ3GTMrwLW",
        "outputId": "7069efc8-3183-4103-9602-bc58749239b2"
      },
      "source": [
        "p_state(gamma)"
      ],
      "execution_count": 10,
      "outputs": [
        {
          "output_type": "execute_result",
          "data": {
            "text/plain": [
              "array([0, 1, 0, 1])"
            ]
          },
          "metadata": {},
          "execution_count": 10
        }
      ]
    },
    {
      "cell_type": "code",
      "metadata": {
        "id": "kTniMD8ms3DQ"
      },
      "source": [
        ""
      ],
      "execution_count": null,
      "outputs": []
    }
  ]
}